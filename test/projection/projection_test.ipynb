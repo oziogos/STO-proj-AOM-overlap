{
 "cells": [
  {
   "cell_type": "code",
   "execution_count": null,
   "metadata": {},
   "outputs": [],
   "source": [
    "import os\n",
    "import json\n",
    "import time\n",
    "import ast\n",
    "import numpy as np\n",
    "import tarfile"
   ]
  },
  {
   "cell_type": "code",
   "execution_count": null,
   "metadata": {},
   "outputs": [],
   "source": [
    "# executable relative path\n",
    "path_to_bin = '../../src/STO_proj_AOM_overlap'"
   ]
  },
  {
   "cell_type": "code",
   "execution_count": null,
   "metadata": {},
   "outputs": [],
   "source": [
    "# STO parameters for GTO-STO projection step\n",
    "STO_proj_dict = {\n",
    "    'H':{'1s':1.0000},\n",
    "    'C':{'2s':1.6083,'2p':1.442657},\n",
    "    'N':{'2s':1.9237,'2p':1.646703},\n",
    "    'O':{'2s':2.2458,'2p':1.858823},\n",
    "    'F':{'2s':2.5638,'2p':2.136394},\n",
    "    'S':{'3s':2.1223,'3p':1.651749},\n",
    "}"
   ]
  },
  {
   "cell_type": "code",
   "execution_count": null,
   "metadata": {},
   "outputs": [],
   "source": [
    "# common parameters for input files\n",
    "basis = 'DZVP-GTH'\n",
    "basis_file = 'cp2k/GTH_BASIS_SETS'\n",
    "MO_channel = 1\n",
    "cube = 'no'\n",
    "cube_grid = 0.25"
   ]
  },
  {
   "cell_type": "code",
   "execution_count": null,
   "metadata": {},
   "outputs": [],
   "source": [
    "# test parameters\n",
    "# np.allclose params\n",
    "rtol = 1.0e-3\n",
    "atol = 1.0e-6\n",
    "# leave empty for all molecules or specify, e.g. ['84a', 'n11']\n",
    "target = []"
   ]
  },
  {
   "cell_type": "code",
   "execution_count": null,
   "metadata": {},
   "outputs": [],
   "source": [
    "# read json files\n",
    "with open('single_molecules.json') as fp:\n",
    "    ref_data = json.load(fp)\n",
    "with open('test_configuration.json') as fp:\n",
    "    test_configuration = json.load(fp)"
   ]
  },
  {
   "cell_type": "code",
   "execution_count": null,
   "metadata": {},
   "outputs": [],
   "source": [
    "# run tests!\n",
    "total = len(target) if target != [] else len(ref_data)\n",
    "total_time = 0\n",
    "counter = 0\n",
    "passed = 0\n",
    "for key, value in test_configuration.items():\n",
    "    if key in target or target == []:\n",
    "        \n",
    "        tar = tarfile.open(value[\"MOLog\"].split('.MOLog')[0]+'.tgz')\n",
    "        tar.extractall()\n",
    "        tar.close()\n",
    "        \n",
    "        counter += 1\n",
    "        config = []\n",
    "        config.append('mode\\tmolecule')\n",
    "        config.append('verb\\tnone')\n",
    "        config.append(f'name\\t{key}')\n",
    "        config.append(f'molecule\\t{value[\"xyz\"]}')\n",
    "        config.append(f'basis\\t{basis}')\n",
    "        config.append(f'basis_file\\t{basis_file}')\n",
    "        config.append(f'MO_file\\t{value[\"MOLog\"]}')\n",
    "        config.append(f'MO\\t{value[\"MO\"]}')\n",
    "        config.append(f'MO_channel\\t{MO_channel}')\n",
    "        config.append(f'cube\\t{cube}')\n",
    "        config.append(f'cube_grid\\t{cube_grid}')\n",
    "        for species, STO in STO_proj_dict.items():\n",
    "            config.append(f'proj_mu\\t{species}\\t' + '\\t'.join(list(map(str,STO.values()))))\n",
    "        with open(f'{key}_projection.txt', mode = 'w') as fp:\n",
    "            for i in config:\n",
    "                print(i, file = fp)\n",
    "        tic = time.perf_counter()\n",
    "        os.system(f'{path_to_bin} {key}_projection.txt')\n",
    "        toc = time.perf_counter()\n",
    "        test_time = toc - tic\n",
    "        total_time += test_time\n",
    "        with open(f'{key}_state.dat') as fp:\n",
    "            raw = fp.read()\n",
    "        test_data = ast.literal_eval(raw)\n",
    "\n",
    "        check=[]\n",
    "        check.append(np.allclose(test_data['pvecs']['px'],ref_data[key]['pvecs']['px'],rtol=rtol, atol=atol))\n",
    "        check.append(np.allclose(test_data['pvecs']['py'],ref_data[key]['pvecs']['py'],rtol=rtol, atol=atol))\n",
    "        check.append(np.allclose(test_data['pvecs']['pz'],ref_data[key]['pvecs']['pz'],rtol=rtol, atol=atol))\n",
    "        check.append(np.allclose(test_data['S_matrix'],ref_data[key]['S_matrix'],rtol=rtol, atol=atol))\n",
    "        check.append(np.allclose(test_data['V_array'],ref_data[key]['V_array'],rtol=rtol, atol=atol))\n",
    "        check.append(np.allclose(test_data['STO_matrix'],ref_data[key]['STO_matrix'],rtol=rtol, atol=atol))\n",
    "        check.append(np.allclose(test_data['singular_values'],ref_data[key]['singular_values'],rtol=rtol, atol=atol))\n",
    "        check.append(np.allclose(list(test_data['AOM_dict'].values()),list(ref_data[key]['AOM_dict'].values()),rtol=rtol, atol=atol))\n",
    "        check.append(np.allclose(list(test_data['compl_dict'].values()),list(ref_data[key]['compl_dict'].values()),rtol=rtol, atol=atol))\n",
    "        \n",
    "        print(f'[{counter}/{total}] ', end = '')\n",
    "        if check == [True for i in check]:\n",
    "            print(f'PASS\\t{key}\\t{test_time:.2f}s')\n",
    "            passed += 1\n",
    "        else:\n",
    "            print(f'! FAIL\\t{key}\\t{test_time:.2f}s')\n",
    "print(f'Total tests: {total}; passed: {passed}/{total}; failed {total-passed}/{total}')\n",
    "print(f'Execution time: {total_time:.2f}s')"
   ]
  },
  {
   "cell_type": "code",
   "execution_count": null,
   "metadata": {},
   "outputs": [],
   "source": [
    "# clean up\n",
    "for key, value in test_configuration.items():\n",
    "    if key in target or target == []:\n",
    "        os.system(f'rm {key}_state.dat')\n",
    "        os.system(f'rm {key}_projection.txt')\n",
    "        os.system(f'rm AOM_*{key}*.include')\n",
    "        os.system(f'rm log*{basis}*dat')\n",
    "        os.system(f'rm {value[\"MOLog\"]}')"
   ]
  }
 ],
 "metadata": {
  "kernelspec": {
   "display_name": "Python 3",
   "language": "python",
   "name": "python3"
  },
  "language_info": {
   "codemirror_mode": {
    "name": "ipython",
    "version": 3
   },
   "file_extension": ".py",
   "mimetype": "text/x-python",
   "name": "python",
   "nbconvert_exporter": "python",
   "pygments_lexer": "ipython3",
   "version": "3.7.5"
  }
 },
 "nbformat": 4,
 "nbformat_minor": 4
}
