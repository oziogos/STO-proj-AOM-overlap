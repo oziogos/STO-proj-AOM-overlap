{
 "cells": [
  {
   "cell_type": "code",
   "execution_count": null,
   "metadata": {},
   "outputs": [],
   "source": [
    "import os\n",
    "import json"
   ]
  },
  {
   "cell_type": "code",
   "execution_count": null,
   "metadata": {},
   "outputs": [],
   "source": [
    "with open('overlap.json') as fp:\n",
    "    ref_data=json.load(fp)"
   ]
  },
  {
   "cell_type": "code",
   "execution_count": null,
   "metadata": {},
   "outputs": [],
   "source": [
    "AOM_dict = {\n",
    "    'H':{'1s':1.0000},\n",
    "    'C':{'2s':1.6083,'2p':1.385600},\n",
    "    'N':{'2s':1.9237,'2p':1.617102},\n",
    "    'O':{'2s':2.2458,'2p':1.505135},\n",
    "    'F':{'2s':2.5638,'2p':1.665190},\n",
    "    'S':{'3s':2.1223,'3p':1.641119},\n",
    "}"
   ]
  },
  {
   "cell_type": "code",
   "execution_count": null,
   "metadata": {},
   "outputs": [],
   "source": [
    "res = {}\n",
    "target_molecules = sorted([i for i in os.listdir('dimers') if not i.startswith('.')])\n",
    "for mol in target_molecules:\n",
    "    prefix = mol.split('_')[0] + '_'\n",
    "    molecule = mol.split(prefix)[-1]\n",
    "    res[molecule] = {}\n",
    "    aom_coeff = [i for i in os.listdir('aom_coeff') if i.find(f'AOM_COEFF_dimer_{molecule}_MO') == 0][0]\n",
    "    with open(f'{molecule}_input.txt', mode = 'w') as fp:\n",
    "        print('mode\\tdimer_simplex', file = fp)\n",
    "        print('verb\\tnone', file = fp)\n",
    "        dimer_list=sorted([i for i in os.listdir(f'dimers/{mol}') if not i.startswith('.')])\n",
    "        print(f'entries\\t{len(dimer_list)}', file = fp)\n",
    "        for dimer in dimer_list:\n",
    "            xyz = f'{\"dimers\"}/{mol}/{dimer}'\n",
    "            with open(xyz) as fp_:\n",
    "                raw = fp_.readlines()\n",
    "            atoms=int(raw[0])\n",
    "            print(f'{molecule}\\t{xyz}\\t{\"aom_coeff\"}/{aom_coeff}\\t{int(atoms/2)}\\tN/A', file = fp)\n",
    "        for species, STO in AOM_dict.items():\n",
    "            print(f'AOM_mu\\t{species}\\t' + '\\t'.join(list(map(str,STO.values()))), file = fp)\n",
    "        print('simplex_steps\\t0', file = fp)\n",
    "    stream = os.popen(f'../../src/STO_proj_AOM_overlap {molecule}_input.txt')\n",
    "    output = stream.readlines()\n",
    "    output = output[-1].strip().split(';')[:-1]\n",
    "    for c,i in enumerate(dimer_list):\n",
    "        res[molecule][i] = {}\n",
    "        res[molecule][i]['value'] = float(output[c])"
   ]
  },
  {
   "cell_type": "code",
   "execution_count": null,
   "metadata": {},
   "outputs": [],
   "source": [
    "atol = 1.0e-6\n",
    "total_dimers = 0\n",
    "total = len(ref_data)\n",
    "passed = 0\n",
    "for mol_counter, (molecule, record) in enumerate(ref_data.items()):\n",
    "    test_status = 'PASS'\n",
    "    for dimer, value in record.items():\n",
    "        total_dimers += 1\n",
    "        if abs(ref_data[molecule][dimer] - res[molecule][dimer]['value']) < atol:\n",
    "            res[molecule][dimer]['status'] = 'PASS'\n",
    "        else:\n",
    "            res[molecule][dimer]['status'] = 'FAIL'\n",
    "            test_status = 'FAIL'\n",
    "    if test_status == 'PASS':\n",
    "        passed += 1\n",
    "        print(f'[{mol_counter + 1}/{total}] PASS\\t{molecule}')\n",
    "    else:\n",
    "        print(f'[{mol_counter + 1}/{total}] ! FAIL\\t{molecule}')\n",
    "print(f'Total tests: {total}; passed: {passed}/{total}; failed {total-passed}/{total}')\n",
    "print(f'Total dimers: {total_dimers}')"
   ]
  },
  {
   "cell_type": "code",
   "execution_count": null,
   "metadata": {},
   "outputs": [],
   "source": [
    "# clean up\n",
    "for mol in target_molecules:\n",
    "    prefix = mol.split('_')[0] + '_'\n",
    "    os.system(f'rm {mol.split(prefix)[-1]}_input.txt')"
   ]
  }
 ],
 "metadata": {
  "kernelspec": {
   "display_name": "Python 3",
   "language": "python",
   "name": "python3"
  },
  "language_info": {
   "codemirror_mode": {
    "name": "ipython",
    "version": 3
   },
   "file_extension": ".py",
   "mimetype": "text/x-python",
   "name": "python",
   "nbconvert_exporter": "python",
   "pygments_lexer": "ipython3",
   "version": "3.7.5"
  }
 },
 "nbformat": 4,
 "nbformat_minor": 4
}
